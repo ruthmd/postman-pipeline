{
 "cells": [
  {
   "cell_type": "code",
   "execution_count": 1,
   "metadata": {
    "colab": {},
    "colab_type": "code",
    "id": "HDIOigxl1zcV"
   },
   "outputs": [],
   "source": [
    "import pyspark.sql.functions as F\n",
    "from pyspark.sql.types import *"
   ]
  },
  {
   "cell_type": "code",
   "execution_count": 2,
   "metadata": {
    "colab": {},
    "colab_type": "code",
    "id": "IBMEkBjL1zcY"
   },
   "outputs": [],
   "source": [
    "spark = SparkSession.builder \\\n",
    "    .appName(\"mongo-spark-postman-pipeline\") \\\n",
    "    .getOrCreate()"
   ]
  },
  {
   "cell_type": "code",
   "execution_count": 3,
   "metadata": {},
   "outputs": [
    {
     "name": "stdout",
     "output_type": "stream",
     "text": [
      "root\n",
      " |-- name: string (nullable = true)\n",
      " |-- sku: string (nullable = true)\n",
      " |-- description: string (nullable = true)\n",
      "\n"
     ]
    },
    {
     "data": {
      "text/plain": [
       "861686"
      ]
     },
     "execution_count": 3,
     "metadata": {},
     "output_type": "execute_result"
    }
   ],
   "source": [
    "df = spark.read.csv('products.csv', inferSchema=True, header=True)\n",
    "df.printSchema()\n",
    "df.count()"
   ]
  },
  {
   "cell_type": "code",
   "execution_count": 4,
   "metadata": {},
   "outputs": [],
   "source": [
    "df.createOrReplaceTempView(\"products\")"
   ]
  },
  {
   "cell_type": "code",
   "execution_count": 5,
   "metadata": {
    "scrolled": false
   },
   "outputs": [],
   "source": [
    "df = spark.sql(\"SELECT distinct * from products where sku is not null and description is not null\")"
   ]
  },
  {
   "cell_type": "code",
   "execution_count": 6,
   "metadata": {},
   "outputs": [
    {
     "data": {
      "text/plain": [
       "500000"
      ]
     },
     "execution_count": 6,
     "metadata": {},
     "output_type": "execute_result"
    }
   ],
   "source": [
    "df.count()"
   ]
  },
  {
   "cell_type": "code",
   "execution_count": 7,
   "metadata": {},
   "outputs": [
    {
     "name": "stdout",
     "output_type": "stream",
     "text": [
      "+------------------+-------------------+--------------------+\n",
      "|              name|                sku|         description|\n",
      "+------------------+-------------------+--------------------+\n",
      "|    Mary Rodriguez| hand-couple-manage|Senior word socia...|\n",
      "|    Jose Henderson| together-table-oil|Apply girl treatm...|\n",
      "|    Karen Villegas|     child-somebody|Every tell serve....|\n",
      "|      Olivia Lynch|forget-matter-avoid|Perhaps environme...|\n",
      "|     Whitney Wiley|    side-blue-dream|Quickly short soc...|\n",
      "|  Brittany Johnson|        east-pretty|Indicate view sim...|\n",
      "|       Paul Morris|    radio-window-us|Society month sho...|\n",
      "|   Jason Patterson|   night-art-be-act|Entire around pla...|\n",
      "|      Kiara Gentry|   compare-politics|Air my kind staff...|\n",
      "| William Hernandez|    skin-should-old|Stock support nee...|\n",
      "|      Jason Osborn|      tv-close-next|Talk view rate ki...|\n",
      "| Meagan Mccullough|  woman-environment|Stay above task. ...|\n",
      "|   Sabrina Mullins|life-responsibility|Computer relation...|\n",
      "|       Ryan Adkins|   painting-prepare|Quite population ...|\n",
      "|     Erin Sullivan|environmental-adult|Least face each d...|\n",
      "|       John Wilson|  per-international|Least technology ...|\n",
      "|    Laura Gonzalez|          agree-lay|Region however Mr...|\n",
      "|Justin Vasquez PhD|   traditional-real|Power his there f...|\n",
      "|        Jim Massey|feel-admit-seem-leg|Financial amount ...|\n",
      "|      Carolyn Hall|    son-share-enjoy|Southern station ...|\n",
      "+------------------+-------------------+--------------------+\n",
      "only showing top 20 rows\n",
      "\n"
     ]
    }
   ],
   "source": [
    "df.show()"
   ]
  },
  {
   "cell_type": "code",
   "execution_count": 8,
   "metadata": {
    "scrolled": false
   },
   "outputs": [],
   "source": [
    "df.write \\\n",
    "    .format(\"mongo\") \\\n",
    "    .mode('ignore') \\\n",
    "    .option(\"uri\", \"mongodb://localhost:27017/postman.products\") \\\n",
    "    .option(\"database\", \"postman\") \\\n",
    "    .option(\"collection\", \"products\") \\\n",
    "    .save()"
   ]
  },
  {
   "cell_type": "code",
   "execution_count": 9,
   "metadata": {},
   "outputs": [],
   "source": [
    "no_of_products = spark.sql(\"SELECT name, count(name) as no_of_products FROM products group by name having count(name)>1 order by 2 desc\")"
   ]
  },
  {
   "cell_type": "code",
   "execution_count": 10,
   "metadata": {},
   "outputs": [
    {
     "name": "stdout",
     "output_type": "stream",
     "text": [
      "84941 unique products\n"
     ]
    }
   ],
   "source": [
    "print(no_of_products.count(), \"unique products\")"
   ]
  },
  {
   "cell_type": "code",
   "execution_count": 11,
   "metadata": {},
   "outputs": [
    {
     "name": "stdout",
     "output_type": "stream",
     "text": [
      "+-----------------+--------------+\n",
      "|             name|no_of_products|\n",
      "+-----------------+--------------+\n",
      "|    Michael Smith|           247|\n",
      "|  Michael Johnson|           187|\n",
      "|     Robert Smith|           167|\n",
      "|Christopher Smith|           159|\n",
      "|      David Smith|           158|\n",
      "| Michael Williams|           157|\n",
      "|       John Smith|           157|\n",
      "|      James Smith|           152|\n",
      "|   Jennifer Smith|           151|\n",
      "|    Michael Brown|           148|\n",
      "|    David Johnson|           138|\n",
      "| Jennifer Johnson|           131|\n",
      "|     John Johnson|           123|\n",
      "|    James Johnson|           122|\n",
      "|    Michael Jones|           113|\n",
      "|   Michael Miller|           110|\n",
      "|   David Williams|           108|\n",
      "|   Robert Johnson|           104|\n",
      "|      David Brown|           103|\n",
      "|     Joseph Smith|           103|\n",
      "+-----------------+--------------+\n",
      "only showing top 20 rows\n",
      "\n"
     ]
    }
   ],
   "source": [
    "no_of_products.show()"
   ]
  },
  {
   "cell_type": "code",
   "execution_count": 12,
   "metadata": {},
   "outputs": [],
   "source": [
    "no_of_products.write \\\n",
    "    .format(\"mongo\") \\\n",
    "    .mode('ignore') \\\n",
    "    .option(\"uri\", \"mongodb://localhost:27017/postman.no_of_products\") \\\n",
    "    .option(\"database\", \"postman\") \\\n",
    "    .option(\"collection\", \"no_of_products\") \\\n",
    "    .save()"
   ]
  },
  {
   "cell_type": "code",
   "execution_count": 13,
   "metadata": {
    "scrolled": false
   },
   "outputs": [],
   "source": [
    "# df_agg = df.groupBy(df['sku']).agg(F.collect_list(F.to_json(F.struct(df['name'], df['description']))).alias('name_description'))\n",
    "df_agg = df.groupBy(F.col(\"sku\")).agg(F.collect_list(F.struct(F.col(\"name\"),F.col(\"description\"))).alias(\"name_description\"))"
   ]
  },
  {
   "cell_type": "code",
   "execution_count": 14,
   "metadata": {},
   "outputs": [
    {
     "name": "stdout",
     "output_type": "stream",
     "text": [
      "root\n",
      " |-- sku: string (nullable = true)\n",
      " |-- name_description: array (nullable = true)\n",
      " |    |-- element: struct (containsNull = true)\n",
      " |    |    |-- name: string (nullable = true)\n",
      " |    |    |-- description: string (nullable = true)\n",
      "\n"
     ]
    }
   ],
   "source": [
    "df_agg.printSchema()"
   ]
  },
  {
   "cell_type": "code",
   "execution_count": 15,
   "metadata": {
    "scrolled": false
   },
   "outputs": [
    {
     "data": {
      "text/plain": [
       "466693"
      ]
     },
     "execution_count": 15,
     "metadata": {},
     "output_type": "execute_result"
    }
   ],
   "source": [
    "df_agg.count()"
   ]
  },
  {
   "cell_type": "code",
   "execution_count": 16,
   "metadata": {},
   "outputs": [
    {
     "name": "stdout",
     "output_type": "stream",
     "text": [
      "+-------------------+--------------------+\n",
      "|                sku|    name_description|\n",
      "+-------------------+--------------------+\n",
      "|           a-effort|[[Toni Sanchez, P...|\n",
      "|  a-loss-foot-quite|[[Mark Garcia, Tr...|\n",
      "|      a-matter-seem|[[Matthew Thompso...|\n",
      "|  ability-interview|[[Jaime Martinez,...|\n",
      "| ability-none-carry|[[Stephen Roberts...|\n",
      "|       able-between|[[Morgan Deleon, ...|\n",
      "|    able-bring-none|[[Amanda Rogers, ...|\n",
      "|     able-much-seek|[[Brian Mata, Rai...|\n",
      "|about-each-as-bring|[[David Mason, A ...|\n",
      "|    accept-congress|[[Kristi Crosby, ...|\n",
      "|accept-enter-across|[[Sydney Gallaghe...|\n",
      "| accept-learn-white|[[Joseph Solomon,...|\n",
      "| according-painting|[[Christopher Coo...|\n",
      "|account-reduce-yeah|[[Christina Chang...|\n",
      "|across-able-quality|[[Thomas Baker, P...|\n",
      "|across-finally-food|[[Heidi Hall, Wil...|\n",
      "|across-partner-list|[[Cody Todd, Nece...|\n",
      "|across-teacher-thus|[[Matthew Sharp, ...|\n",
      "|    act-song-before|[[Angela King, Te...|\n",
      "|   action-our-group|[[David Li, Court...|\n",
      "+-------------------+--------------------+\n",
      "only showing top 20 rows\n",
      "\n"
     ]
    }
   ],
   "source": [
    "df_agg.show()"
   ]
  },
  {
   "cell_type": "code",
   "execution_count": 24,
   "metadata": {},
   "outputs": [],
   "source": [
    "df_agg.write \\\n",
    "    .format(\"mongo\") \\\n",
    "    .mode('ignore') \\\n",
    "    .option(\"uri\", \"mongodb://localhost:27017/postman.products1\") \\\n",
    "    .option(\"database\", \"postman\") \\\n",
    "    .option(\"collection\", \"products1\") \\\n",
    "    .save()"
   ]
  },
  {
   "cell_type": "code",
   "execution_count": null,
   "metadata": {},
   "outputs": [],
   "source": []
  }
 ],
 "metadata": {
  "colab": {
   "collapsed_sections": [],
   "name": "spark_postgres.ipynb",
   "provenance": []
  },
  "kernelspec": {
   "display_name": "Python 3",
   "language": "python",
   "name": "python3"
  },
  "language_info": {
   "codemirror_mode": {
    "name": "ipython",
    "version": 3
   },
   "file_extension": ".py",
   "mimetype": "text/x-python",
   "name": "python",
   "nbconvert_exporter": "python",
   "pygments_lexer": "ipython3",
   "version": "3.7.7"
  }
 },
 "nbformat": 4,
 "nbformat_minor": 1
}
