{
 "cells": [
  {
   "cell_type": "code",
   "execution_count": null,
   "metadata": {
    "colab": {},
    "colab_type": "code",
    "id": "K4pzflB31zcR"
   },
   "outputs": [],
   "source": [
    "# add jdbc JAR to spark/jars\n",
    "# pyspark --jars postgresql-42.2.13.jar "
   ]
  },
  {
   "cell_type": "code",
   "execution_count": 113,
   "metadata": {
    "colab": {},
    "colab_type": "code",
    "id": "HDIOigxl1zcV"
   },
   "outputs": [],
   "source": [
    "import pyspark.sql.functions as F"
   ]
  },
  {
   "cell_type": "code",
   "execution_count": 114,
   "metadata": {
    "colab": {},
    "colab_type": "code",
    "id": "IBMEkBjL1zcY"
   },
   "outputs": [],
   "source": [
    "spark = SparkSession.builder.appName(\"postman-pipeline\").getOrCreate()"
   ]
  },
  {
   "cell_type": "code",
   "execution_count": 115,
   "metadata": {},
   "outputs": [
    {
     "name": "stdout",
     "output_type": "stream",
     "text": [
      "root\n",
      " |-- name: string (nullable = true)\n",
      " |-- sku: string (nullable = true)\n",
      " |-- description: string (nullable = true)\n",
      "\n"
     ]
    },
    {
     "data": {
      "text/plain": [
       "861686"
      ]
     },
     "execution_count": 115,
     "metadata": {},
     "output_type": "execute_result"
    }
   ],
   "source": [
    "df = spark.read.csv('products.csv', inferSchema=True, header=True)\n",
    "df.printSchema()\n",
    "df.count()"
   ]
  },
  {
   "cell_type": "code",
   "execution_count": 116,
   "metadata": {},
   "outputs": [],
   "source": [
    "df.createOrReplaceTempView(\"products\")"
   ]
  },
  {
   "cell_type": "code",
   "execution_count": 117,
   "metadata": {},
   "outputs": [],
   "source": [
    "df = spark.sql(\"SELECT distinct * from products where sku is not null and description is not null\")"
   ]
  },
  {
   "cell_type": "code",
   "execution_count": 118,
   "metadata": {},
   "outputs": [
    {
     "data": {
      "text/plain": [
       "500000"
      ]
     },
     "execution_count": 118,
     "metadata": {},
     "output_type": "execute_result"
    }
   ],
   "source": [
    "df.count()"
   ]
  },
  {
   "cell_type": "code",
   "execution_count": 119,
   "metadata": {},
   "outputs": [
    {
     "name": "stdout",
     "output_type": "stream",
     "text": [
      "+------------------+-------------------+--------------------+\n",
      "|              name|                sku|         description|\n",
      "+------------------+-------------------+--------------------+\n",
      "|    Mary Rodriguez| hand-couple-manage|Senior word socia...|\n",
      "|    Jose Henderson| together-table-oil|Apply girl treatm...|\n",
      "|    Karen Villegas|     child-somebody|Every tell serve....|\n",
      "|      Olivia Lynch|forget-matter-avoid|Perhaps environme...|\n",
      "|     Whitney Wiley|    side-blue-dream|Quickly short soc...|\n",
      "|  Brittany Johnson|        east-pretty|Indicate view sim...|\n",
      "|       Paul Morris|    radio-window-us|Society month sho...|\n",
      "|   Jason Patterson|   night-art-be-act|Entire around pla...|\n",
      "|      Kiara Gentry|   compare-politics|Air my kind staff...|\n",
      "| William Hernandez|    skin-should-old|Stock support nee...|\n",
      "|      Jason Osborn|      tv-close-next|Talk view rate ki...|\n",
      "| Meagan Mccullough|  woman-environment|Stay above task. ...|\n",
      "|   Sabrina Mullins|life-responsibility|Computer relation...|\n",
      "|       Ryan Adkins|   painting-prepare|Quite population ...|\n",
      "|     Erin Sullivan|environmental-adult|Least face each d...|\n",
      "|       John Wilson|  per-international|Least technology ...|\n",
      "|    Laura Gonzalez|          agree-lay|Region however Mr...|\n",
      "|Justin Vasquez PhD|   traditional-real|Power his there f...|\n",
      "|        Jim Massey|feel-admit-seem-leg|Financial amount ...|\n",
      "|      Carolyn Hall|    son-share-enjoy|Southern station ...|\n",
      "+------------------+-------------------+--------------------+\n",
      "only showing top 20 rows\n",
      "\n"
     ]
    }
   ],
   "source": [
    "df.show()"
   ]
  },
  {
   "cell_type": "code",
   "execution_count": 120,
   "metadata": {},
   "outputs": [],
   "source": [
    "df.write \\\n",
    "    .format(\"jdbc\") \\\n",
    "    .mode(\"ignore\") \\\n",
    "    .option(\"url\", \"jdbc:postgresql://localhost:5432/ruthwik\") \\\n",
    "    .option(\"dbtable\", \"postman.products\") \\\n",
    "    .option(\"user\", \"postgres\") \\\n",
    "    .option(\"password\", \"ruthwik\") \\\n",
    "    .save()"
   ]
  },
  {
   "cell_type": "code",
   "execution_count": 121,
   "metadata": {},
   "outputs": [],
   "source": [
    "no_of_products = spark.sql(\"SELECT name, count(name) as no_of_products FROM products group by name having count(name)>1 order by 2 desc\")"
   ]
  },
  {
   "cell_type": "code",
   "execution_count": 122,
   "metadata": {},
   "outputs": [
    {
     "name": "stdout",
     "output_type": "stream",
     "text": [
      "84941 unique products\n"
     ]
    }
   ],
   "source": [
    "print(no_of_products.count(), \"unique products\")"
   ]
  },
  {
   "cell_type": "code",
   "execution_count": 123,
   "metadata": {},
   "outputs": [
    {
     "name": "stdout",
     "output_type": "stream",
     "text": [
      "+-----------------+--------------+\n",
      "|             name|no_of_products|\n",
      "+-----------------+--------------+\n",
      "|    Michael Smith|           247|\n",
      "|  Michael Johnson|           187|\n",
      "|     Robert Smith|           167|\n",
      "|Christopher Smith|           159|\n",
      "|      David Smith|           158|\n",
      "| Michael Williams|           157|\n",
      "|       John Smith|           157|\n",
      "|      James Smith|           152|\n",
      "|   Jennifer Smith|           151|\n",
      "|    Michael Brown|           148|\n",
      "|    David Johnson|           138|\n",
      "| Jennifer Johnson|           131|\n",
      "|     John Johnson|           123|\n",
      "|    James Johnson|           122|\n",
      "|    Michael Jones|           113|\n",
      "|   Michael Miller|           110|\n",
      "|   David Williams|           108|\n",
      "|   Robert Johnson|           104|\n",
      "|      David Brown|           103|\n",
      "|     Joseph Smith|           103|\n",
      "+-----------------+--------------+\n",
      "only showing top 20 rows\n",
      "\n"
     ]
    }
   ],
   "source": [
    "no_of_products.show()"
   ]
  },
  {
   "cell_type": "code",
   "execution_count": 124,
   "metadata": {},
   "outputs": [],
   "source": [
    "no_of_products.write \\\n",
    "    .format(\"jdbc\") \\\n",
    "    .mode(\"ignore\") \\\n",
    "    .option(\"url\", \"jdbc:postgresql://localhost:5432/ruthwik\") \\\n",
    "    .option(\"dbtable\", \"postman.no_of_products\") \\\n",
    "    .option(\"user\", \"postgres\") \\\n",
    "    .option(\"password\", \"ruthwik\") \\\n",
    "    .save()"
   ]
  },
  {
   "cell_type": "code",
   "execution_count": 125,
   "metadata": {
    "scrolled": false
   },
   "outputs": [],
   "source": [
    "#  add primary key constraint after the creation of this table: ALTER TABLE ruthwik.postman.products1 add primary key (sku);\n",
    "df_agg = df.groupBy(df['sku']).agg(F.collect_list(F.to_json(F.struct(df['name'], df['description']))).alias('name_description'))"
   ]
  },
  {
   "cell_type": "code",
   "execution_count": 126,
   "metadata": {},
   "outputs": [
    {
     "name": "stdout",
     "output_type": "stream",
     "text": [
      "root\n",
      " |-- sku: string (nullable = true)\n",
      " |-- name_description: array (nullable = true)\n",
      " |    |-- element: string (containsNull = true)\n",
      "\n"
     ]
    }
   ],
   "source": [
    "df_agg.printSchema()"
   ]
  },
  {
   "cell_type": "code",
   "execution_count": 127,
   "metadata": {
    "scrolled": false
   },
   "outputs": [
    {
     "data": {
      "text/plain": [
       "466693"
      ]
     },
     "execution_count": 127,
     "metadata": {},
     "output_type": "execute_result"
    }
   ],
   "source": [
    "df_agg.count()"
   ]
  },
  {
   "cell_type": "code",
   "execution_count": 128,
   "metadata": {},
   "outputs": [
    {
     "name": "stdout",
     "output_type": "stream",
     "text": [
      "+-------------------+--------------------+\n",
      "|                sku|    name_description|\n",
      "+-------------------+--------------------+\n",
      "|           a-effort|[{\"name\":\"Toni Sa...|\n",
      "|  a-loss-foot-quite|[{\"name\":\"Mark Ga...|\n",
      "|      a-matter-seem|[{\"name\":\"Matthew...|\n",
      "|  ability-interview|[{\"name\":\"Jaime M...|\n",
      "| ability-none-carry|[{\"name\":\"Stephen...|\n",
      "|       able-between|[{\"name\":\"Morgan ...|\n",
      "|    able-bring-none|[{\"name\":\"Amanda ...|\n",
      "|     able-much-seek|[{\"name\":\"Brian M...|\n",
      "|about-each-as-bring|[{\"name\":\"David M...|\n",
      "|    accept-congress|[{\"name\":\"Kristi ...|\n",
      "|accept-enter-across|[{\"name\":\"Sydney ...|\n",
      "| accept-learn-white|[{\"name\":\"Joseph ...|\n",
      "| according-painting|[{\"name\":\"Christo...|\n",
      "|account-reduce-yeah|[{\"name\":\"Christi...|\n",
      "|across-able-quality|[{\"name\":\"Thomas ...|\n",
      "|across-finally-food|[{\"name\":\"Heidi H...|\n",
      "|across-partner-list|[{\"name\":\"Cody To...|\n",
      "|across-teacher-thus|[{\"name\":\"Matthew...|\n",
      "|    act-song-before|[{\"name\":\"Angela ...|\n",
      "|   action-our-group|[{\"name\":\"David L...|\n",
      "+-------------------+--------------------+\n",
      "only showing top 20 rows\n",
      "\n"
     ]
    }
   ],
   "source": [
    "df_agg.show()"
   ]
  },
  {
   "cell_type": "code",
   "execution_count": 129,
   "metadata": {},
   "outputs": [],
   "source": [
    "df_agg.write \\\n",
    "    .format(\"jdbc\") \\\n",
    "    .mode(\"ignore\") \\\n",
    "    .option(\"url\", \"jdbc:postgresql://localhost:5432/ruthwik\") \\\n",
    "    .option(\"dbtable\", \"postman.products1\") \\\n",
    "    .option(\"user\", \"postgres\") \\\n",
    "    .option(\"password\", \"ruthwik\") \\\n",
    "    .save()"
   ]
  }
 ],
 "metadata": {
  "colab": {
   "collapsed_sections": [],
   "name": "spark_postgres.ipynb",
   "provenance": []
  },
  "kernelspec": {
   "display_name": "Python 3",
   "language": "python",
   "name": "python3"
  },
  "language_info": {
   "codemirror_mode": {
    "name": "ipython",
    "version": 3
   },
   "file_extension": ".py",
   "mimetype": "text/x-python",
   "name": "python",
   "nbconvert_exporter": "python",
   "pygments_lexer": "ipython3",
   "version": "3.7.7"
  }
 },
 "nbformat": 4,
 "nbformat_minor": 1
}
